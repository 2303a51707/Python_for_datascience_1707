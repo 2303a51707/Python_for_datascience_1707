{
  "nbformat": 4,
  "nbformat_minor": 0,
  "metadata": {
    "colab": {
      "provenance": [],
      "authorship_tag": "ABX9TyNT1R84u/MFmdfsHgAXU+U/",
      "include_colab_link": true
    },
    "kernelspec": {
      "name": "python3",
      "display_name": "Python 3"
    },
    "language_info": {
      "name": "python"
    }
  },
  "cells": [
    {
      "cell_type": "markdown",
      "metadata": {
        "id": "view-in-github",
        "colab_type": "text"
      },
      "source": [
        "<a href=\"https://colab.research.google.com/github/2303a51707/Python_for_datascience_1707/blob/main/LAB_3.ipynb\" target=\"_parent\"><img src=\"https://colab.research.google.com/assets/colab-badge.svg\" alt=\"Open In Colab\"/></a>"
      ]
    },
    {
      "cell_type": "code",
      "source": [
        "import numpy as np\n",
        "import matplotlib.pyplot as plt"
      ],
      "metadata": {
        "id": "oM8SDqBiFw0R"
      },
      "execution_count": 1,
      "outputs": []
    },
    {
      "cell_type": "code",
      "execution_count": 2,
      "metadata": {
        "colab": {
          "base_uri": "https://localhost:8080/"
        },
        "id": "uPG6Y11UFvWh",
        "outputId": "b59c9eca-3134-4f18-9257-e2522ee4bde4"
      },
      "outputs": [
        {
          "output_type": "stream",
          "name": "stdout",
          "text": [
            "\n",
            "Row-wise Mean (Avg per student): [87.   84.   89.75 68.75]\n",
            "\n",
            "Column-wise Mean (Avg per test): [80.25 83.5  83.75 82.  ]\n"
          ]
        }
      ],
      "source": [
        "scores = np.array([\n",
        "    [78, 85, 90, 95],\n",
        "    [88, 92, 80, 76],\n",
        "    [90, 87, 93, 89],\n",
        "    [65, 70, 72, 68]\n",
        "])\n",
        "\n",
        "row_mean = np.mean(scores, axis=1)\n",
        "print(\"\\nRow-wise Mean (Avg per student):\", row_mean)\n",
        "\n",
        "col_mean = np.mean(scores, axis=0)\n",
        "print(\"\\nColumn-wise Mean (Avg per test):\", col_mean)"
      ]
    },
    {
      "cell_type": "code",
      "source": [
        "row_std = np.std(scores, axis=1)\n",
        "row_var = np.var(scores, axis=1)\n",
        "print(\"\\nRow-wise Standard Deviation:\", row_std)\n",
        "print(\"Row-wise Variance:\", row_var)\n",
        "\n",
        "col_std = np.std(scores, axis=0)\n",
        "col_var = np.var(scores, axis=0)\n",
        "print(\"\\nColumn-wise Standard Deviation:\", col_std)\n",
        "print(\"Column-wise Variance:\", col_var)"
      ],
      "metadata": {
        "colab": {
          "base_uri": "https://localhost:8080/"
        },
        "id": "idnUT8-AF6lx",
        "outputId": "a20278f8-8563-4e9b-8528-ac2abeaa06ed"
      },
      "execution_count": 4,
      "outputs": [
        {
          "output_type": "stream",
          "name": "stdout",
          "text": [
            "\n",
            "Row-wise Standard Deviation: [6.28490254 6.32455532 2.16506351 2.58602011]\n",
            "Row-wise Variance: [39.5    40.      4.6875  6.6875]\n",
            "\n",
            "Column-wise Standard Deviation: [ 9.90896059  8.20060973  8.31790238 10.60660172]\n",
            "Column-wise Variance: [ 98.1875  67.25    69.1875 112.5   ]\n"
          ]
        }
      ]
    },
    {
      "cell_type": "code",
      "source": [
        "global_max = np.max(scores)\n",
        "global_min = np.min(scores)\n",
        "print(\"\\nGlobal Max:\", global_max)\n",
        "print(\"Global Min:\", global_min)\n"
      ],
      "metadata": {
        "colab": {
          "base_uri": "https://localhost:8080/"
        },
        "id": "WNpzaGYRGAb_",
        "outputId": "496e245e-4b9a-4c6d-d838-4cd7cfcd1917"
      },
      "execution_count": 5,
      "outputs": [
        {
          "output_type": "stream",
          "name": "stdout",
          "text": [
            "\n",
            "Global Max: 95\n",
            "Global Min: 65\n"
          ]
        }
      ]
    },
    {
      "cell_type": "code",
      "source": [
        "max_idx = np.unravel_index(np.argmax(scores), scores.shape)\n",
        "min_idx = np.unravel_index(np.argmin(scores), scores.shape)\n",
        "print(\"Index of Global Max:\", max_idx)\n",
        "print(\"Index of Global Min:\", min_idx)"
      ],
      "metadata": {
        "colab": {
          "base_uri": "https://localhost:8080/"
        },
        "id": "2MVDqLeIGE7M",
        "outputId": "8aa81ffd-4e43-45e4-cf6c-2196218835c8"
      },
      "execution_count": 6,
      "outputs": [
        {
          "output_type": "stream",
          "name": "stdout",
          "text": [
            "Index of Global Max: (np.int64(0), np.int64(3))\n",
            "Index of Global Min: (np.int64(3), np.int64(0))\n"
          ]
        }
      ]
    },
    {
      "cell_type": "code",
      "source": [
        "image = np.random.randint(0, 256, size=(3, 3, 3), dtype=np.uint8)\n",
        "\n",
        "print(\"Original RGB Image Matrix:\\n\", image)\n",
        "\n",
        "red_channel = image[:, :, 0]\n",
        "green_channel = image[:, :, 1]\n",
        "blue_channel = image[:, :, 2]\n",
        "\n",
        "print(\"\\nRed Channel:\\n\", red_channel)\n",
        "print(\"\\nGreen Channel:\\n\", green_channel)\n",
        "print(\"\\nBlue Channel:\\n\", blue_channel)\n",
        "\n"
      ],
      "metadata": {
        "colab": {
          "base_uri": "https://localhost:8080/"
        },
        "id": "fIq323t0GJfQ",
        "outputId": "bf7f69ba-3bb5-457e-8dcc-474149b0d266"
      },
      "execution_count": 7,
      "outputs": [
        {
          "output_type": "stream",
          "name": "stdout",
          "text": [
            "Original RGB Image Matrix:\n",
            " [[[221 145 109]\n",
            "  [  4  26  52]\n",
            "  [ 13 118 150]]\n",
            "\n",
            " [[248 140  64]\n",
            "  [213  53 201]\n",
            "  [ 86   3  24]]\n",
            "\n",
            " [[ 46 140 213]\n",
            "  [196   1 248]\n",
            "  [229  78  14]]]\n",
            "\n",
            "Red Channel:\n",
            " [[221   4  13]\n",
            " [248 213  86]\n",
            " [ 46 196 229]]\n",
            "\n",
            "Green Channel:\n",
            " [[145  26 118]\n",
            " [140  53   3]\n",
            " [140   1  78]]\n",
            "\n",
            "Blue Channel:\n",
            " [[109  52 150]\n",
            " [ 64 201  24]\n",
            " [213 248  14]]\n"
          ]
        }
      ]
    },
    {
      "cell_type": "code",
      "source": [
        "avg_red = np.mean(red_channel)\n",
        "avg_green = np.mean(green_channel)\n",
        "avg_blue = np.mean(blue_channel)\n",
        "\n",
        "print(\"\\nAverage Red Intensity:\", avg_red)\n",
        "print(\"Average Green Intensity:\", avg_green)\n",
        "print(\"Average Blue Intensity:\", avg_blue)"
      ],
      "metadata": {
        "colab": {
          "base_uri": "https://localhost:8080/"
        },
        "id": "9HZACDmeGMwy",
        "outputId": "f3abb65f-aa54-44a3-f89e-88e57bfb2ecd"
      },
      "execution_count": 8,
      "outputs": [
        {
          "output_type": "stream",
          "name": "stdout",
          "text": [
            "\n",
            "Average Red Intensity: 139.55555555555554\n",
            "Average Green Intensity: 78.22222222222223\n",
            "Average Blue Intensity: 119.44444444444444\n"
          ]
        }
      ]
    },
    {
      "cell_type": "code",
      "source": [
        "brightened_image = np.clip(image + 50, 0, 255)\n",
        "\n",
        "print(\"\\nBrightened Image Matrix:\\n\", brightened_image)\n",
        "\n",
        "fig, axs = plt.subplots(1, 2, figsize=(8, 4))\n",
        "axs[0].imshow(image)\n",
        "axs[0].set_title('Original RGB Image')\n",
        "axs[0].axis('off')\n",
        "\n",
        "axs[1].imshow(brightened_image)\n",
        "axs[1].set_title('Brightened RGB Image')\n",
        "axs[1].axis('off')\n",
        "\n",
        "plt.tight_layout()\n",
        "plt.show()"
      ],
      "metadata": {
        "colab": {
          "base_uri": "https://localhost:8080/",
          "height": 579
        },
        "id": "XauFIVwGGQCc",
        "outputId": "45e16c3f-d853-421e-fa63-43991db97b83"
      },
      "execution_count": 9,
      "outputs": [
        {
          "output_type": "stream",
          "name": "stdout",
          "text": [
            "\n",
            "Brightened Image Matrix:\n",
            " [[[ 15 195 159]\n",
            "  [ 54  76 102]\n",
            "  [ 63 168 200]]\n",
            "\n",
            " [[ 42 190 114]\n",
            "  [  7 103 251]\n",
            "  [136  53  74]]\n",
            "\n",
            " [[ 96 190   7]\n",
            "  [246  51  42]\n",
            "  [ 23 128  64]]]\n"
          ]
        },
        {
          "output_type": "display_data",
          "data": {
            "text/plain": [
              "<Figure size 800x400 with 2 Axes>"
            ],
            "image/png": "[encoded data removed]"
          },
          "metadata": {}
        }
      ]
    }
  ]
}